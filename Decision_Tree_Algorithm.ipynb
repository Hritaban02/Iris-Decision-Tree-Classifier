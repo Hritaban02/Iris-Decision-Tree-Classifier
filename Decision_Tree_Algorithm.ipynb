{
  "nbformat": 4,
  "nbformat_minor": 0,
  "metadata": {
    "colab": {
      "name": "Decision_Tree_Algorithm.ipynb",
      "provenance": [],
      "collapsed_sections": []
    },
    "kernelspec": {
      "name": "python3",
      "display_name": "Python 3"
    },
    "language_info": {
      "name": "python"
    }
  },
  "cells": [
    {
      "cell_type": "markdown",
      "metadata": {
        "id": "z35xHc-qU3VR"
      },
      "source": [
        "# Using a Decision Tree Classifier to classify flowers into categories"
      ]
    },
    {
      "cell_type": "markdown",
      "metadata": {
        "id": "o3w-YyLAVKih"
      },
      "source": [
        "## Step 1: Import the libraries"
      ]
    },
    {
      "cell_type": "code",
      "metadata": {
        "id": "GFUAXb_yVOxz"
      },
      "source": [
        "import numpy as np\n",
        "import matplotlib.pyplot as plt\n",
        "import pandas as pd"
      ],
      "execution_count": 1,
      "outputs": []
    },
    {
      "cell_type": "markdown",
      "metadata": {
        "id": "M93PlmXvVVRw"
      },
      "source": [
        "## Step 2: Import the dataset"
      ]
    },
    {
      "cell_type": "code",
      "metadata": {
        "id": "X_FT8IIbVY_Q"
      },
      "source": [
        "dataset = pd.read_csv(\"Iris.csv\")\n",
        "x = dataset.iloc[:,1:-1].values\n",
        "y = dataset.iloc[:,-1].values"
      ],
      "execution_count": 2,
      "outputs": []
    },
    {
      "cell_type": "code",
      "metadata": {
        "colab": {
          "base_uri": "https://localhost:8080/"
        },
        "id": "XqsfVi8rVtAh",
        "outputId": "b286b642-2ee7-47bd-ced5-bafe6c00a029"
      },
      "source": [
        "print(dataset)\n",
        "print(type(dataset))"
      ],
      "execution_count": 3,
      "outputs": [
        {
          "output_type": "stream",
          "text": [
            "      Id  SepalLengthCm  ...  PetalWidthCm         Species\n",
            "0      1            5.1  ...           0.2     Iris-setosa\n",
            "1      2            4.9  ...           0.2     Iris-setosa\n",
            "2      3            4.7  ...           0.2     Iris-setosa\n",
            "3      4            4.6  ...           0.2     Iris-setosa\n",
            "4      5            5.0  ...           0.2     Iris-setosa\n",
            "..   ...            ...  ...           ...             ...\n",
            "145  146            6.7  ...           2.3  Iris-virginica\n",
            "146  147            6.3  ...           1.9  Iris-virginica\n",
            "147  148            6.5  ...           2.0  Iris-virginica\n",
            "148  149            6.2  ...           2.3  Iris-virginica\n",
            "149  150            5.9  ...           1.8  Iris-virginica\n",
            "\n",
            "[150 rows x 6 columns]\n",
            "<class 'pandas.core.frame.DataFrame'>\n"
          ],
          "name": "stdout"
        }
      ]
    },
    {
      "cell_type": "code",
      "metadata": {
        "colab": {
          "base_uri": "https://localhost:8080/"
        },
        "id": "r5xRtqswVtDZ",
        "outputId": "8a38d2b5-4915-4763-a606-af546b880092"
      },
      "source": [
        "print(x)\n",
        "print(type(x))"
      ],
      "execution_count": 4,
      "outputs": [
        {
          "output_type": "stream",
          "text": [
            "[[5.1 3.5 1.4 0.2]\n",
            " [4.9 3.  1.4 0.2]\n",
            " [4.7 3.2 1.3 0.2]\n",
            " [4.6 3.1 1.5 0.2]\n",
            " [5.  3.6 1.4 0.2]\n",
            " [5.4 3.9 1.7 0.4]\n",
            " [4.6 3.4 1.4 0.3]\n",
            " [5.  3.4 1.5 0.2]\n",
            " [4.4 2.9 1.4 0.2]\n",
            " [4.9 3.1 1.5 0.1]\n",
            " [5.4 3.7 1.5 0.2]\n",
            " [4.8 3.4 1.6 0.2]\n",
            " [4.8 3.  1.4 0.1]\n",
            " [4.3 3.  1.1 0.1]\n",
            " [5.8 4.  1.2 0.2]\n",
            " [5.7 4.4 1.5 0.4]\n",
            " [5.4 3.9 1.3 0.4]\n",
            " [5.1 3.5 1.4 0.3]\n",
            " [5.7 3.8 1.7 0.3]\n",
            " [5.1 3.8 1.5 0.3]\n",
            " [5.4 3.4 1.7 0.2]\n",
            " [5.1 3.7 1.5 0.4]\n",
            " [4.6 3.6 1.  0.2]\n",
            " [5.1 3.3 1.7 0.5]\n",
            " [4.8 3.4 1.9 0.2]\n",
            " [5.  3.  1.6 0.2]\n",
            " [5.  3.4 1.6 0.4]\n",
            " [5.2 3.5 1.5 0.2]\n",
            " [5.2 3.4 1.4 0.2]\n",
            " [4.7 3.2 1.6 0.2]\n",
            " [4.8 3.1 1.6 0.2]\n",
            " [5.4 3.4 1.5 0.4]\n",
            " [5.2 4.1 1.5 0.1]\n",
            " [5.5 4.2 1.4 0.2]\n",
            " [4.9 3.1 1.5 0.1]\n",
            " [5.  3.2 1.2 0.2]\n",
            " [5.5 3.5 1.3 0.2]\n",
            " [4.9 3.1 1.5 0.1]\n",
            " [4.4 3.  1.3 0.2]\n",
            " [5.1 3.4 1.5 0.2]\n",
            " [5.  3.5 1.3 0.3]\n",
            " [4.5 2.3 1.3 0.3]\n",
            " [4.4 3.2 1.3 0.2]\n",
            " [5.  3.5 1.6 0.6]\n",
            " [5.1 3.8 1.9 0.4]\n",
            " [4.8 3.  1.4 0.3]\n",
            " [5.1 3.8 1.6 0.2]\n",
            " [4.6 3.2 1.4 0.2]\n",
            " [5.3 3.7 1.5 0.2]\n",
            " [5.  3.3 1.4 0.2]\n",
            " [7.  3.2 4.7 1.4]\n",
            " [6.4 3.2 4.5 1.5]\n",
            " [6.9 3.1 4.9 1.5]\n",
            " [5.5 2.3 4.  1.3]\n",
            " [6.5 2.8 4.6 1.5]\n",
            " [5.7 2.8 4.5 1.3]\n",
            " [6.3 3.3 4.7 1.6]\n",
            " [4.9 2.4 3.3 1. ]\n",
            " [6.6 2.9 4.6 1.3]\n",
            " [5.2 2.7 3.9 1.4]\n",
            " [5.  2.  3.5 1. ]\n",
            " [5.9 3.  4.2 1.5]\n",
            " [6.  2.2 4.  1. ]\n",
            " [6.1 2.9 4.7 1.4]\n",
            " [5.6 2.9 3.6 1.3]\n",
            " [6.7 3.1 4.4 1.4]\n",
            " [5.6 3.  4.5 1.5]\n",
            " [5.8 2.7 4.1 1. ]\n",
            " [6.2 2.2 4.5 1.5]\n",
            " [5.6 2.5 3.9 1.1]\n",
            " [5.9 3.2 4.8 1.8]\n",
            " [6.1 2.8 4.  1.3]\n",
            " [6.3 2.5 4.9 1.5]\n",
            " [6.1 2.8 4.7 1.2]\n",
            " [6.4 2.9 4.3 1.3]\n",
            " [6.6 3.  4.4 1.4]\n",
            " [6.8 2.8 4.8 1.4]\n",
            " [6.7 3.  5.  1.7]\n",
            " [6.  2.9 4.5 1.5]\n",
            " [5.7 2.6 3.5 1. ]\n",
            " [5.5 2.4 3.8 1.1]\n",
            " [5.5 2.4 3.7 1. ]\n",
            " [5.8 2.7 3.9 1.2]\n",
            " [6.  2.7 5.1 1.6]\n",
            " [5.4 3.  4.5 1.5]\n",
            " [6.  3.4 4.5 1.6]\n",
            " [6.7 3.1 4.7 1.5]\n",
            " [6.3 2.3 4.4 1.3]\n",
            " [5.6 3.  4.1 1.3]\n",
            " [5.5 2.5 4.  1.3]\n",
            " [5.5 2.6 4.4 1.2]\n",
            " [6.1 3.  4.6 1.4]\n",
            " [5.8 2.6 4.  1.2]\n",
            " [5.  2.3 3.3 1. ]\n",
            " [5.6 2.7 4.2 1.3]\n",
            " [5.7 3.  4.2 1.2]\n",
            " [5.7 2.9 4.2 1.3]\n",
            " [6.2 2.9 4.3 1.3]\n",
            " [5.1 2.5 3.  1.1]\n",
            " [5.7 2.8 4.1 1.3]\n",
            " [6.3 3.3 6.  2.5]\n",
            " [5.8 2.7 5.1 1.9]\n",
            " [7.1 3.  5.9 2.1]\n",
            " [6.3 2.9 5.6 1.8]\n",
            " [6.5 3.  5.8 2.2]\n",
            " [7.6 3.  6.6 2.1]\n",
            " [4.9 2.5 4.5 1.7]\n",
            " [7.3 2.9 6.3 1.8]\n",
            " [6.7 2.5 5.8 1.8]\n",
            " [7.2 3.6 6.1 2.5]\n",
            " [6.5 3.2 5.1 2. ]\n",
            " [6.4 2.7 5.3 1.9]\n",
            " [6.8 3.  5.5 2.1]\n",
            " [5.7 2.5 5.  2. ]\n",
            " [5.8 2.8 5.1 2.4]\n",
            " [6.4 3.2 5.3 2.3]\n",
            " [6.5 3.  5.5 1.8]\n",
            " [7.7 3.8 6.7 2.2]\n",
            " [7.7 2.6 6.9 2.3]\n",
            " [6.  2.2 5.  1.5]\n",
            " [6.9 3.2 5.7 2.3]\n",
            " [5.6 2.8 4.9 2. ]\n",
            " [7.7 2.8 6.7 2. ]\n",
            " [6.3 2.7 4.9 1.8]\n",
            " [6.7 3.3 5.7 2.1]\n",
            " [7.2 3.2 6.  1.8]\n",
            " [6.2 2.8 4.8 1.8]\n",
            " [6.1 3.  4.9 1.8]\n",
            " [6.4 2.8 5.6 2.1]\n",
            " [7.2 3.  5.8 1.6]\n",
            " [7.4 2.8 6.1 1.9]\n",
            " [7.9 3.8 6.4 2. ]\n",
            " [6.4 2.8 5.6 2.2]\n",
            " [6.3 2.8 5.1 1.5]\n",
            " [6.1 2.6 5.6 1.4]\n",
            " [7.7 3.  6.1 2.3]\n",
            " [6.3 3.4 5.6 2.4]\n",
            " [6.4 3.1 5.5 1.8]\n",
            " [6.  3.  4.8 1.8]\n",
            " [6.9 3.1 5.4 2.1]\n",
            " [6.7 3.1 5.6 2.4]\n",
            " [6.9 3.1 5.1 2.3]\n",
            " [5.8 2.7 5.1 1.9]\n",
            " [6.8 3.2 5.9 2.3]\n",
            " [6.7 3.3 5.7 2.5]\n",
            " [6.7 3.  5.2 2.3]\n",
            " [6.3 2.5 5.  1.9]\n",
            " [6.5 3.  5.2 2. ]\n",
            " [6.2 3.4 5.4 2.3]\n",
            " [5.9 3.  5.1 1.8]]\n",
            "<class 'numpy.ndarray'>\n"
          ],
          "name": "stdout"
        }
      ]
    },
    {
      "cell_type": "code",
      "metadata": {
        "colab": {
          "base_uri": "https://localhost:8080/"
        },
        "id": "_7y12oSFVtGk",
        "outputId": "fb6e0999-a4f3-423a-8a82-33fc1f041a2a"
      },
      "source": [
        "print(y)\n",
        "print(type(y))"
      ],
      "execution_count": 5,
      "outputs": [
        {
          "output_type": "stream",
          "text": [
            "['Iris-setosa' 'Iris-setosa' 'Iris-setosa' 'Iris-setosa' 'Iris-setosa'\n",
            " 'Iris-setosa' 'Iris-setosa' 'Iris-setosa' 'Iris-setosa' 'Iris-setosa'\n",
            " 'Iris-setosa' 'Iris-setosa' 'Iris-setosa' 'Iris-setosa' 'Iris-setosa'\n",
            " 'Iris-setosa' 'Iris-setosa' 'Iris-setosa' 'Iris-setosa' 'Iris-setosa'\n",
            " 'Iris-setosa' 'Iris-setosa' 'Iris-setosa' 'Iris-setosa' 'Iris-setosa'\n",
            " 'Iris-setosa' 'Iris-setosa' 'Iris-setosa' 'Iris-setosa' 'Iris-setosa'\n",
            " 'Iris-setosa' 'Iris-setosa' 'Iris-setosa' 'Iris-setosa' 'Iris-setosa'\n",
            " 'Iris-setosa' 'Iris-setosa' 'Iris-setosa' 'Iris-setosa' 'Iris-setosa'\n",
            " 'Iris-setosa' 'Iris-setosa' 'Iris-setosa' 'Iris-setosa' 'Iris-setosa'\n",
            " 'Iris-setosa' 'Iris-setosa' 'Iris-setosa' 'Iris-setosa' 'Iris-setosa'\n",
            " 'Iris-versicolor' 'Iris-versicolor' 'Iris-versicolor' 'Iris-versicolor'\n",
            " 'Iris-versicolor' 'Iris-versicolor' 'Iris-versicolor' 'Iris-versicolor'\n",
            " 'Iris-versicolor' 'Iris-versicolor' 'Iris-versicolor' 'Iris-versicolor'\n",
            " 'Iris-versicolor' 'Iris-versicolor' 'Iris-versicolor' 'Iris-versicolor'\n",
            " 'Iris-versicolor' 'Iris-versicolor' 'Iris-versicolor' 'Iris-versicolor'\n",
            " 'Iris-versicolor' 'Iris-versicolor' 'Iris-versicolor' 'Iris-versicolor'\n",
            " 'Iris-versicolor' 'Iris-versicolor' 'Iris-versicolor' 'Iris-versicolor'\n",
            " 'Iris-versicolor' 'Iris-versicolor' 'Iris-versicolor' 'Iris-versicolor'\n",
            " 'Iris-versicolor' 'Iris-versicolor' 'Iris-versicolor' 'Iris-versicolor'\n",
            " 'Iris-versicolor' 'Iris-versicolor' 'Iris-versicolor' 'Iris-versicolor'\n",
            " 'Iris-versicolor' 'Iris-versicolor' 'Iris-versicolor' 'Iris-versicolor'\n",
            " 'Iris-versicolor' 'Iris-versicolor' 'Iris-versicolor' 'Iris-versicolor'\n",
            " 'Iris-versicolor' 'Iris-versicolor' 'Iris-virginica' 'Iris-virginica'\n",
            " 'Iris-virginica' 'Iris-virginica' 'Iris-virginica' 'Iris-virginica'\n",
            " 'Iris-virginica' 'Iris-virginica' 'Iris-virginica' 'Iris-virginica'\n",
            " 'Iris-virginica' 'Iris-virginica' 'Iris-virginica' 'Iris-virginica'\n",
            " 'Iris-virginica' 'Iris-virginica' 'Iris-virginica' 'Iris-virginica'\n",
            " 'Iris-virginica' 'Iris-virginica' 'Iris-virginica' 'Iris-virginica'\n",
            " 'Iris-virginica' 'Iris-virginica' 'Iris-virginica' 'Iris-virginica'\n",
            " 'Iris-virginica' 'Iris-virginica' 'Iris-virginica' 'Iris-virginica'\n",
            " 'Iris-virginica' 'Iris-virginica' 'Iris-virginica' 'Iris-virginica'\n",
            " 'Iris-virginica' 'Iris-virginica' 'Iris-virginica' 'Iris-virginica'\n",
            " 'Iris-virginica' 'Iris-virginica' 'Iris-virginica' 'Iris-virginica'\n",
            " 'Iris-virginica' 'Iris-virginica' 'Iris-virginica' 'Iris-virginica'\n",
            " 'Iris-virginica' 'Iris-virginica' 'Iris-virginica' 'Iris-virginica']\n",
            "<class 'numpy.ndarray'>\n"
          ],
          "name": "stdout"
        }
      ]
    },
    {
      "cell_type": "markdown",
      "metadata": {
        "id": "ff1_mt9AV5rg"
      },
      "source": [
        "## Step 3: Encode the categorical variable in y"
      ]
    },
    {
      "cell_type": "code",
      "metadata": {
        "id": "mSb7uvXWWCo6"
      },
      "source": [
        "from sklearn.preprocessing import LabelEncoder\n",
        "\n",
        "le = LabelEncoder()\n",
        "\n",
        "y = le.fit_transform(y)"
      ],
      "execution_count": 6,
      "outputs": []
    },
    {
      "cell_type": "code",
      "metadata": {
        "colab": {
          "base_uri": "https://localhost:8080/"
        },
        "id": "bq_QazEZXJOw",
        "outputId": "0e76791f-5eda-4b72-9e9c-b782a24df1ad"
      },
      "source": [
        "print(y)"
      ],
      "execution_count": 7,
      "outputs": [
        {
          "output_type": "stream",
          "text": [
            "[0 0 0 0 0 0 0 0 0 0 0 0 0 0 0 0 0 0 0 0 0 0 0 0 0 0 0 0 0 0 0 0 0 0 0 0 0\n",
            " 0 0 0 0 0 0 0 0 0 0 0 0 0 1 1 1 1 1 1 1 1 1 1 1 1 1 1 1 1 1 1 1 1 1 1 1 1\n",
            " 1 1 1 1 1 1 1 1 1 1 1 1 1 1 1 1 1 1 1 1 1 1 1 1 1 1 2 2 2 2 2 2 2 2 2 2 2\n",
            " 2 2 2 2 2 2 2 2 2 2 2 2 2 2 2 2 2 2 2 2 2 2 2 2 2 2 2 2 2 2 2 2 2 2 2 2 2\n",
            " 2 2]\n"
          ],
          "name": "stdout"
        }
      ]
    },
    {
      "cell_type": "markdown",
      "metadata": {
        "id": "9atkSxfIXpRi"
      },
      "source": [
        "## Step 4: Split the dataset into training set and test set"
      ]
    },
    {
      "cell_type": "code",
      "metadata": {
        "id": "gWP1VIctXxmL"
      },
      "source": [
        "from sklearn.model_selection import train_test_split\n",
        "\n",
        "x_train, x_test, y_train, y_test = train_test_split(x, y, test_size = 0.1)"
      ],
      "execution_count": 8,
      "outputs": []
    },
    {
      "cell_type": "code",
      "metadata": {
        "colab": {
          "base_uri": "https://localhost:8080/"
        },
        "id": "w9HcyaA9YGp4",
        "outputId": "27dd4aa0-b2d4-434a-e045-c88d017fcf8d"
      },
      "source": [
        "print(x_train)"
      ],
      "execution_count": 9,
      "outputs": [
        {
          "output_type": "stream",
          "text": [
            "[[5.4 3.4 1.7 0.2]\n",
            " [5.  2.  3.5 1. ]\n",
            " [5.4 3.9 1.3 0.4]\n",
            " [5.6 2.8 4.9 2. ]\n",
            " [6.2 2.9 4.3 1.3]\n",
            " [4.9 3.  1.4 0.2]\n",
            " [6.4 3.2 5.3 2.3]\n",
            " [7.7 2.8 6.7 2. ]\n",
            " [6.4 2.8 5.6 2.1]\n",
            " [5.7 2.8 4.5 1.3]\n",
            " [5.6 2.9 3.6 1.3]\n",
            " [6.9 3.2 5.7 2.3]\n",
            " [6.6 2.9 4.6 1.3]\n",
            " [5.7 2.8 4.1 1.3]\n",
            " [6.5 2.8 4.6 1.5]\n",
            " [5.  3.2 1.2 0.2]\n",
            " [6.9 3.1 4.9 1.5]\n",
            " [6.3 3.4 5.6 2.4]\n",
            " [6.1 3.  4.9 1.8]\n",
            " [6.3 3.3 4.7 1.6]\n",
            " [6.5 3.2 5.1 2. ]\n",
            " [4.6 3.2 1.4 0.2]\n",
            " [6.7 2.5 5.8 1.8]\n",
            " [6.9 3.1 5.1 2.3]\n",
            " [5.6 3.  4.5 1.5]\n",
            " [5.6 2.7 4.2 1.3]\n",
            " [6.6 3.  4.4 1.4]\n",
            " [5.2 4.1 1.5 0.1]\n",
            " [5.1 3.4 1.5 0.2]\n",
            " [7.9 3.8 6.4 2. ]\n",
            " [4.8 3.1 1.6 0.2]\n",
            " [7.2 3.2 6.  1.8]\n",
            " [6.4 2.9 4.3 1.3]\n",
            " [7.7 2.6 6.9 2.3]\n",
            " [6.1 3.  4.6 1.4]\n",
            " [6.2 2.2 4.5 1.5]\n",
            " [6.7 3.  5.2 2.3]\n",
            " [5.5 2.6 4.4 1.2]\n",
            " [5.1 3.3 1.7 0.5]\n",
            " [6.5 3.  5.2 2. ]\n",
            " [6.7 3.  5.  1.7]\n",
            " [4.3 3.  1.1 0.1]\n",
            " [4.8 3.  1.4 0.3]\n",
            " [5.4 3.  4.5 1.5]\n",
            " [5.7 2.6 3.5 1. ]\n",
            " [4.6 3.1 1.5 0.2]\n",
            " [5.2 3.5 1.5 0.2]\n",
            " [4.6 3.6 1.  0.2]\n",
            " [6.  3.  4.8 1.8]\n",
            " [6.3 2.8 5.1 1.5]\n",
            " [6.7 3.1 4.4 1.4]\n",
            " [5.8 2.6 4.  1.2]\n",
            " [6.  2.7 5.1 1.6]\n",
            " [5.2 2.7 3.9 1.4]\n",
            " [5.  3.  1.6 0.2]\n",
            " [5.1 3.8 1.9 0.4]\n",
            " [4.9 3.1 1.5 0.1]\n",
            " [4.7 3.2 1.3 0.2]\n",
            " [5.1 2.5 3.  1.1]\n",
            " [5.  3.5 1.6 0.6]\n",
            " [6.5 3.  5.8 2.2]\n",
            " [4.4 3.2 1.3 0.2]\n",
            " [6.8 3.2 5.9 2.3]\n",
            " [4.9 2.5 4.5 1.7]\n",
            " [4.8 3.  1.4 0.1]\n",
            " [5.3 3.7 1.5 0.2]\n",
            " [6.4 3.1 5.5 1.8]\n",
            " [6.4 2.7 5.3 1.9]\n",
            " [4.9 2.4 3.3 1. ]\n",
            " [5.  3.5 1.3 0.3]\n",
            " [7.3 2.9 6.3 1.8]\n",
            " [6.4 3.2 4.5 1.5]\n",
            " [7.  3.2 4.7 1.4]\n",
            " [5.5 3.5 1.3 0.2]\n",
            " [7.7 3.  6.1 2.3]\n",
            " [6.3 2.7 4.9 1.8]\n",
            " [6.2 3.4 5.4 2.3]\n",
            " [5.5 2.5 4.  1.3]\n",
            " [5.8 2.8 5.1 2.4]\n",
            " [6.3 2.3 4.4 1.3]\n",
            " [4.9 3.1 1.5 0.1]\n",
            " [5.1 3.5 1.4 0.3]\n",
            " [5.4 3.9 1.7 0.4]\n",
            " [4.8 3.4 1.9 0.2]\n",
            " [6.4 2.8 5.6 2.2]\n",
            " [5.2 3.4 1.4 0.2]\n",
            " [6.1 2.8 4.7 1.2]\n",
            " [6.1 2.9 4.7 1.4]\n",
            " [4.6 3.4 1.4 0.3]\n",
            " [5.  2.3 3.3 1. ]\n",
            " [5.9 3.  4.2 1.5]\n",
            " [5.7 3.  4.2 1.2]\n",
            " [5.9 3.  5.1 1.8]\n",
            " [5.8 2.7 5.1 1.9]\n",
            " [6.7 3.1 4.7 1.5]\n",
            " [6.3 3.3 6.  2.5]\n",
            " [6.  3.4 4.5 1.6]\n",
            " [5.  3.4 1.6 0.4]\n",
            " [5.8 2.7 4.1 1. ]\n",
            " [5.8 2.7 3.9 1.2]\n",
            " [5.6 3.  4.1 1.3]\n",
            " [7.2 3.  5.8 1.6]\n",
            " [5.5 2.3 4.  1.3]\n",
            " [5.1 3.5 1.4 0.2]\n",
            " [5.1 3.8 1.6 0.2]\n",
            " [6.3 2.5 5.  1.9]\n",
            " [4.9 3.1 1.5 0.1]\n",
            " [5.1 3.8 1.5 0.3]\n",
            " [6.8 3.  5.5 2.1]\n",
            " [7.1 3.  5.9 2.1]\n",
            " [6.1 2.6 5.6 1.4]\n",
            " [7.2 3.6 6.1 2.5]\n",
            " [5.9 3.2 4.8 1.8]\n",
            " [6.2 2.8 4.8 1.8]\n",
            " [7.4 2.8 6.1 1.9]\n",
            " [5.7 4.4 1.5 0.4]\n",
            " [5.4 3.4 1.5 0.4]\n",
            " [5.5 2.4 3.7 1. ]\n",
            " [5.7 3.8 1.7 0.3]\n",
            " [4.7 3.2 1.6 0.2]\n",
            " [4.8 3.4 1.6 0.2]\n",
            " [6.9 3.1 5.4 2.1]\n",
            " [5.5 2.4 3.8 1.1]\n",
            " [5.5 4.2 1.4 0.2]\n",
            " [5.7 2.9 4.2 1.3]\n",
            " [6.3 2.5 4.9 1.5]\n",
            " [5.  3.3 1.4 0.2]\n",
            " [7.6 3.  6.6 2.1]\n",
            " [7.7 3.8 6.7 2.2]\n",
            " [6.7 3.3 5.7 2.5]\n",
            " [6.7 3.3 5.7 2.1]\n",
            " [6.  2.2 4.  1. ]\n",
            " [6.8 2.8 4.8 1.4]\n",
            " [5.1 3.7 1.5 0.4]\n",
            " [6.1 2.8 4.  1.3]]\n"
          ],
          "name": "stdout"
        }
      ]
    },
    {
      "cell_type": "code",
      "metadata": {
        "colab": {
          "base_uri": "https://localhost:8080/"
        },
        "id": "-2UZECiwYGw5",
        "outputId": "ebec8ccc-33c6-47e7-a9de-88c80da74190"
      },
      "source": [
        "print(y_train)"
      ],
      "execution_count": 10,
      "outputs": [
        {
          "output_type": "stream",
          "text": [
            "[0 1 0 2 1 0 2 2 2 1 1 2 1 1 1 0 1 2 2 1 2 0 2 2 1 1 1 0 0 2 0 2 1 2 1 1 2\n",
            " 1 0 2 1 0 0 1 1 0 0 0 2 2 1 1 1 1 0 0 0 0 1 0 2 0 2 2 0 0 2 2 1 0 2 1 1 0\n",
            " 2 2 2 1 2 1 0 0 0 0 2 0 1 1 0 1 1 1 2 2 1 2 1 0 1 1 1 2 1 0 0 2 0 0 2 2 2\n",
            " 2 1 2 2 0 0 1 0 0 0 2 1 0 1 1 0 2 2 2 2 1 1 0 1]\n"
          ],
          "name": "stdout"
        }
      ]
    },
    {
      "cell_type": "code",
      "metadata": {
        "colab": {
          "base_uri": "https://localhost:8080/"
        },
        "id": "adnvJF0VYG4Q",
        "outputId": "596f42f3-45d4-4649-c2c4-ab0f9b6a75bd"
      },
      "source": [
        "print(x_test)"
      ],
      "execution_count": 11,
      "outputs": [
        {
          "output_type": "stream",
          "text": [
            "[[5.  3.4 1.5 0.2]\n",
            " [6.5 3.  5.5 1.8]\n",
            " [6.7 3.1 5.6 2.4]\n",
            " [5.7 2.5 5.  2. ]\n",
            " [6.  2.9 4.5 1.5]\n",
            " [5.8 4.  1.2 0.2]\n",
            " [6.3 2.9 5.6 1.8]\n",
            " [5.4 3.7 1.5 0.2]\n",
            " [5.  3.6 1.4 0.2]\n",
            " [4.5 2.3 1.3 0.3]\n",
            " [5.6 2.5 3.9 1.1]\n",
            " [4.4 3.  1.3 0.2]\n",
            " [6.  2.2 5.  1.5]\n",
            " [5.8 2.7 5.1 1.9]\n",
            " [4.4 2.9 1.4 0.2]]\n"
          ],
          "name": "stdout"
        }
      ]
    },
    {
      "cell_type": "code",
      "metadata": {
        "colab": {
          "base_uri": "https://localhost:8080/"
        },
        "id": "XxM45shmYHA4",
        "outputId": "57857710-6764-4822-c3cd-590bd1b58a7f"
      },
      "source": [
        "print(y_test)"
      ],
      "execution_count": 12,
      "outputs": [
        {
          "output_type": "stream",
          "text": [
            "[0 2 2 2 1 0 2 0 0 0 1 0 2 2 0]\n"
          ],
          "name": "stdout"
        }
      ]
    },
    {
      "cell_type": "markdown",
      "metadata": {
        "id": "L0Od95JoYeBx"
      },
      "source": [
        "## Step 5: Feature scale the matrix of features"
      ]
    },
    {
      "cell_type": "code",
      "metadata": {
        "id": "mPtDJlNRYp0t"
      },
      "source": [
        "from sklearn.preprocessing import StandardScaler\n",
        "\n",
        "sc = StandardScaler()\n",
        "x_train = sc.fit_transform(x_train)\n",
        "x_test = sc.transform(x_test)"
      ],
      "execution_count": 13,
      "outputs": []
    },
    {
      "cell_type": "markdown",
      "metadata": {
        "id": "mJeFB_OoY78h"
      },
      "source": [
        "## Step 6: Build the Decision Tree Classifier"
      ]
    },
    {
      "cell_type": "code",
      "metadata": {
        "id": "dsglqATTZBXY"
      },
      "source": [
        "from sklearn.tree import DecisionTreeClassifier\n",
        "classifier = DecisionTreeClassifier(criterion = \"entropy\")"
      ],
      "execution_count": 14,
      "outputs": []
    },
    {
      "cell_type": "markdown",
      "metadata": {
        "id": "5uA09KXdZol8"
      },
      "source": [
        "## Step 7: Train the model on the training set"
      ]
    },
    {
      "cell_type": "code",
      "metadata": {
        "colab": {
          "base_uri": "https://localhost:8080/"
        },
        "id": "-c5ksQPHZtl0",
        "outputId": "5332e0fd-5645-4e2c-cb92-5d6363e81c8f"
      },
      "source": [
        "classifier.fit(x_train, y_train)"
      ],
      "execution_count": 15,
      "outputs": [
        {
          "output_type": "execute_result",
          "data": {
            "text/plain": [
              "DecisionTreeClassifier(ccp_alpha=0.0, class_weight=None, criterion='entropy',\n",
              "                       max_depth=None, max_features=None, max_leaf_nodes=None,\n",
              "                       min_impurity_decrease=0.0, min_impurity_split=None,\n",
              "                       min_samples_leaf=1, min_samples_split=2,\n",
              "                       min_weight_fraction_leaf=0.0, presort='deprecated',\n",
              "                       random_state=None, splitter='best')"
            ]
          },
          "metadata": {
            "tags": []
          },
          "execution_count": 15
        }
      ]
    },
    {
      "cell_type": "markdown",
      "metadata": {
        "id": "lwgJG0a1Z0yL"
      },
      "source": [
        "## Step 8: Get the predictions on the training set and visualize them"
      ]
    },
    {
      "cell_type": "code",
      "metadata": {
        "colab": {
          "base_uri": "https://localhost:8080/"
        },
        "id": "mOYqVvmRaAEJ",
        "outputId": "3ac496d0-7556-4f45-b356-6f747e3097c7"
      },
      "source": [
        "y_pred_train = classifier.predict(x_train)\n",
        "print(y_pred_train)"
      ],
      "execution_count": 16,
      "outputs": [
        {
          "output_type": "stream",
          "text": [
            "[0 1 0 2 1 0 2 2 2 1 1 2 1 1 1 0 1 2 2 1 2 0 2 2 1 1 1 0 0 2 0 2 1 2 1 1 2\n",
            " 1 0 2 1 0 0 1 1 0 0 0 2 2 1 1 1 1 0 0 0 0 1 0 2 0 2 2 0 0 2 2 1 0 2 1 1 0\n",
            " 2 2 2 1 2 1 0 0 0 0 2 0 1 1 0 1 1 1 2 2 1 2 1 0 1 1 1 2 1 0 0 2 0 0 2 2 2\n",
            " 2 1 2 2 0 0 1 0 0 0 2 1 0 1 1 0 2 2 2 2 1 1 0 1]\n"
          ],
          "name": "stdout"
        }
      ]
    },
    {
      "cell_type": "code",
      "metadata": {
        "colab": {
          "base_uri": "https://localhost:8080/",
          "height": 295
        },
        "id": "gDjQlOa8aSVN",
        "outputId": "d405c4f6-884e-4cb8-bcc7-bb9e4546ca6a"
      },
      "source": [
        "plt.scatter(x_train[y_pred_train == 0,0],x_train[y_pred_train == 0,1], s=50, color = 'red', label='Iris Setosa')\n",
        "plt.scatter(x_train[y_pred_train == 1,0],x_train[y_pred_train == 1,1], s=50, color = 'green', label='Iris VersiColor')\n",
        "plt.scatter(x_train[y_pred_train == 2,0],x_train[y_pred_train == 2,1], s=50, color = 'blue', label='Iris Virginica')\n",
        "plt.title(\"Decision Tree Classifier\")\n",
        "plt.xlabel(\"Sepal Length Cm\")\n",
        "plt.ylabel(\"Sepal Width Cm\")\n",
        "plt.legend()\n",
        "plt.show()"
      ],
      "execution_count": 17,
      "outputs": [
        {
          "output_type": "display_data",
          "data": {
            "image/png": "[encoded data removed]",
            "text/plain": [
              "<Figure size 432x288 with 1 Axes>"
            ]
          },
          "metadata": {
            "tags": [],
            "needs_background": "light"
          }
        }
      ]
    },
    {
      "cell_type": "markdown",
      "metadata": {
        "id": "tD45ojz0gjd5"
      },
      "source": [
        "## Step 9: Get the predictions on the test set and visualize them"
      ]
    },
    {
      "cell_type": "code",
      "metadata": {
        "colab": {
          "base_uri": "https://localhost:8080/"
        },
        "id": "oBPlS2KFgrKr",
        "outputId": "207758a9-e196-4f22-a1e1-5c751a76a08d"
      },
      "source": [
        "y_pred_test = classifier.predict(x_test)\n",
        "print(y_pred_test)"
      ],
      "execution_count": 18,
      "outputs": [
        {
          "output_type": "stream",
          "text": [
            "[0 2 2 2 1 0 2 0 0 0 1 0 1 2 0]\n"
          ],
          "name": "stdout"
        }
      ]
    },
    {
      "cell_type": "code",
      "metadata": {
        "colab": {
          "base_uri": "https://localhost:8080/",
          "height": 295
        },
        "id": "yolmtXAwgx3K",
        "outputId": "0a224c39-ba05-4d43-94ff-06e0dfcb0ae6"
      },
      "source": [
        "plt.scatter(x_test[y_pred_test == 0,0],x_test[y_pred_test == 0,1], s=50, color = 'red', label='Iris Setosa')\n",
        "plt.scatter(x_test[y_pred_test == 1,0],x_test[y_pred_test == 1,1], s=50, color = 'green', label='Iris VersiColor')\n",
        "plt.scatter(x_test[y_pred_test == 2,0],x_test[y_pred_test == 2,1], s=50, color = 'blue', label='Iris Virginica')\n",
        "plt.title(\"Decision Tree Classifier\")\n",
        "plt.xlabel(\"Sepal Length Cm\")\n",
        "plt.ylabel(\"Sepal Width Cm\")\n",
        "plt.legend()\n",
        "plt.show()"
      ],
      "execution_count": 19,
      "outputs": [
        {
          "output_type": "display_data",
          "data": {
            "image/png": "[encoded data removed]",
            "text/plain": [
              "<Figure size 432x288 with 1 Axes>"
            ]
          },
          "metadata": {
            "tags": [],
            "needs_background": "light"
          }
        }
      ]
    },
    {
      "cell_type": "markdown",
      "metadata": {
        "id": "fpnOxSGHhPpw"
      },
      "source": [
        "## Step 10: Evaluate the model"
      ]
    },
    {
      "cell_type": "code",
      "metadata": {
        "colab": {
          "base_uri": "https://localhost:8080/"
        },
        "id": "byvNSRN-hOnL",
        "outputId": "a355fa5c-c9f0-4175-ae00-85c791a67aee"
      },
      "source": [
        "from sklearn.metrics import confusion_matrix\n",
        "from sklearn.metrics import accuracy_score\n",
        "cm = confusion_matrix(y_test,y_pred_test)\n",
        "ac = accuracy_score(y_test, y_pred_test)\n",
        "print(f\"Confusion Matrix :\\n {cm}\")\n",
        "print(f\"Accuracy : {ac*100}%\")"
      ],
      "execution_count": 20,
      "outputs": [
        {
          "output_type": "stream",
          "text": [
            "Confusion Matrix :\n",
            " [[7 0 0]\n",
            " [0 2 0]\n",
            " [0 1 5]]\n",
            "Accuracy : 93.33333333333333%\n"
          ],
          "name": "stdout"
        }
      ]
    }
  ]
}